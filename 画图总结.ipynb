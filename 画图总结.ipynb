{
 "cells": [
  {
   "cell_type": "code",
   "execution_count": null,
   "metadata": {},
   "outputs": [],
   "source": [
    "import numpy as np\n",
    "import matplotlib.pyplot as plt\n",
    "import pandas as pd\n",
    "import seaborn as sns"
   ]
  },
  {
   "cell_type": "markdown",
   "metadata": {},
   "source": [
    "### 读取数据"
   ]
  },
  {
   "cell_type": "code",
   "execution_count": 2,
   "metadata": {},
   "outputs": [],
   "source": [
    "ARIMA = pd.read_csv('./error_history_ARIMA.csv')\n",
    "GP = pd.read_csv('./error_history_GP.csv')"
   ]
  },
  {
   "cell_type": "markdown",
   "metadata": {},
   "source": [
    "### MAE "
   ]
  },
  {
   "cell_type": "code",
   "execution_count": null,
   "metadata": {},
   "outputs": [],
   "source": [
    "error_history1 = np.abs(error_history1)\n",
    "error_history2 = np.abs(error_history2)\n",
    "\n",
    "print('error1 = ',np.mean(error_history1))\n",
    "print('error2 = ',np.mean(error_history2))"
   ]
  },
  {
   "cell_type": "markdown",
   "metadata": {},
   "source": [
    "### 写入文件 "
   ]
  },
  {
   "cell_type": "code",
   "execution_count": null,
   "metadata": {},
   "outputs": [],
   "source": [
    "# 转化成DataFrame\n",
    "pd1 = pd.DataFrame({ 'error1':error_history1,'error2':error_history2})\n",
    "# 将 DataFrame 写入 CSV 文件\n",
    "pd1.to_csv('error_history_ARIMA.csv', index=False)"
   ]
  },
  {
   "cell_type": "code",
   "execution_count": null,
   "metadata": {},
   "outputs": [],
   "source": [
    "# x轴加入日期\n",
    "base_date = '2016-9-11'\n",
    "x1 = pd.to_timedelta(x1, unit='D')\n",
    "x1 = pd.to_datetime(base_date) + x1 "
   ]
  },
  {
   "cell_type": "code",
   "execution_count": null,
   "metadata": {},
   "outputs": [],
   "source": [
    "plt.figure(dpi=200)              # 图片清晰度\n",
    "sns.set_style('whitegrid')       # 图片风格\n",
    "sns.set(font='Times New Roman')  # 图片全局字体\n",
    "\n",
    "sns.lineplot(x=x1,y=money_history)  # 横纵坐标\n",
    "\n",
    "plt.xticks(fontweight='bold')  # 横坐标值加粗\n",
    "plt.yticks(fontweight='bold')  # 纵坐标值加粗\n",
    "\n",
    "plt.title('Daily Investment Worth Increase under Model-based Decision',fontweight = 'bold') # 设置标题\n",
    "plt.xlabel('Date')            # x轴图例\n",
    "plt.ylabel('Investment Worth($)')  # y轴图例"
   ]
  },
  {
   "cell_type": "code",
   "execution_count": null,
   "metadata": {},
   "outputs": [],
   "source": [
    "plt.savefig(\"test.png\",dpi=300,fontsize = (6,4))  # 保存图片png"
   ]
  },
  {
   "cell_type": "code",
   "execution_count": null,
   "metadata": {},
   "outputs": [],
   "source": [
    "# 子图\n",
    "plt.figure(figsize=(8,15))\n",
    "plt.subplot(2,1,1)\n",
    "plt.plot(error_history1)\n",
    "plt.subplot(2,1,2)\n",
    "plt.plot(error_history2)"
   ]
  },
  {
   "cell_type": "code",
   "execution_count": null,
   "metadata": {},
   "outputs": [],
   "source": [
    "# 处理横坐标时间\n",
    "data1['DayFromBegin'] = pd.to_datetime(data1['Date'],format='%m/%d/%y').map(\n",
    "    lambda x: (x - pd.to_datetime('2016-9-11')).days)\n",
    "data2['Date'] = pd.to_datetime(data2['Date'],format='%m/%d/%y')"
   ]
  },
  {
   "cell_type": "code",
   "execution_count": null,
   "metadata": {},
   "outputs": [],
   "source": []
  }
 ],
 "metadata": {
  "kernelspec": {
   "display_name": "Python 3",
   "language": "python",
   "name": "python3"
  },
  "language_info": {
   "codemirror_mode": {
    "name": "ipython",
    "version": 3
   },
   "file_extension": ".py",
   "mimetype": "text/x-python",
   "name": "python",
   "nbconvert_exporter": "python",
   "pygments_lexer": "ipython3",
   "version": "3.9.13"
  }
 },
 "nbformat": 4,
 "nbformat_minor": 2
}
